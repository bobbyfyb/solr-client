{
 "cells": [
  {
   "cell_type": "code",
   "execution_count": 39,
   "metadata": {},
   "outputs": [
    {
     "name": "stdout",
     "output_type": "stream",
     "text": [
      "create new folder success!\n"
     ]
    }
   ],
   "source": [
    "import os\n",
    "\n",
    "def mkdir(path):\n",
    "    os.chdir('/home/jovyan/')\n",
    "    isExists = os.path.exists(path)\n",
    "    if not isExists:\n",
    "        os.makedirs(path)\n",
    "        print('create new folder success!')\n",
    "        #return True\n",
    "    else:\n",
    "        print('folder already existed!')\n",
    "        #return False\n",
    "    return path\n",
    "\n",
    "    \n",
    "results_path = 'playground/projects/fangyubo/pyserini/runs/results_v3'\n",
    "\n",
    "qid = 0\n",
    "query = {'sub_len_label':'test_long', 'sub_readability':'test_plain'}\n",
    "\n",
    "result_path = results_path + \"/\" + f\"{qid}\" + \"/\" + f\"{query['sub_len_label']}_{query['sub_readability']}\"\n",
    "\n",
    "path = mkdir(result_path)"
   ]
  },
  {
   "cell_type": "code",
   "execution_count": 40,
   "metadata": {},
   "outputs": [
    {
     "data": {
      "text/plain": [
       "'playground/projects/fangyubo/pyserini/runs/results_v3/0/test_long_test_plain'"
      ]
     },
     "execution_count": 40,
     "metadata": {},
     "output_type": "execute_result"
    }
   ],
   "source": [
    "path "
   ]
  },
  {
   "cell_type": "code",
   "execution_count": 23,
   "metadata": {},
   "outputs": [
    {
     "data": {
      "text/plain": [
       "True"
      ]
     },
     "execution_count": 23,
     "metadata": {},
     "output_type": "execute_result"
    }
   ],
   "source": [
    "os.path.exists(path)"
   ]
  },
  {
   "cell_type": "code",
   "execution_count": 37,
   "metadata": {},
   "outputs": [],
   "source": [
    "os.chdir('/home/jovyan/')"
   ]
  },
  {
   "cell_type": "code",
   "execution_count": 38,
   "metadata": {},
   "outputs": [
    {
     "data": {
      "text/plain": [
       "'/home/jovyan'"
      ]
     },
     "execution_count": 38,
     "metadata": {},
     "output_type": "execute_result"
    }
   ],
   "source": [
    "os.getcwd()"
   ]
  },
  {
   "cell_type": "code",
   "execution_count": 35,
   "metadata": {},
   "outputs": [
    {
     "data": {
      "text/plain": [
       "['home',\n",
       " 'lib',\n",
       " 'media',\n",
       " 'sbin',\n",
       " 'srv',\n",
       " 'dev',\n",
       " 'lib32',\n",
       " 'libx32',\n",
       " 'tmp',\n",
       " 'etc',\n",
       " 'root',\n",
       " 'mnt',\n",
       " 'bin',\n",
       " 'sys',\n",
       " 'boot',\n",
       " 'proc',\n",
       " 'run',\n",
       " 'usr',\n",
       " 'var',\n",
       " 'opt',\n",
       " 'lib64',\n",
       " '.dockerenv']"
      ]
     },
     "execution_count": 35,
     "metadata": {},
     "output_type": "execute_result"
    }
   ],
   "source": [
    "os.listdir(os.getcwd())"
   ]
  },
  {
   "cell_type": "code",
   "execution_count": null,
   "metadata": {},
   "outputs": [],
   "source": []
  }
 ],
 "metadata": {
  "kernelspec": {
   "display_name": "Python 3",
   "language": "python",
   "name": "python3"
  },
  "language_info": {
   "codemirror_mode": {
    "name": "ipython",
    "version": 3
   },
   "file_extension": ".py",
   "mimetype": "text/x-python",
   "name": "python",
   "nbconvert_exporter": "python",
   "pygments_lexer": "ipython3",
   "version": "3.8.5"
  }
 },
 "nbformat": 4,
 "nbformat_minor": 4
}
