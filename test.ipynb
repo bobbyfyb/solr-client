{
 "metadata": {
  "language_info": {
   "codemirror_mode": {
    "name": "ipython",
    "version": 3
   },
   "file_extension": ".py",
   "mimetype": "text/x-python",
   "name": "python",
   "nbconvert_exporter": "python",
   "pygments_lexer": "ipython3",
   "version": "3.8.5-final"
  },
  "orig_nbformat": 2,
  "kernelspec": {
   "name": "python_defaultSpec_1600338058758",
   "display_name": "Python 3.8.5 64-bit ('solr': conda)"
  }
 },
 "nbformat": 4,
 "nbformat_minor": 2,
 "cells": [
  {
   "cell_type": "code",
   "execution_count": 2,
   "metadata": {},
   "outputs": [],
   "source": [
    "from query import Query\n",
    "from client import solrClient\n",
    "import pandas as pd "
   ]
  },
  {
   "cell_type": "code",
   "execution_count": 3,
   "metadata": {
    "tags": []
   },
   "outputs": [
    {
     "output_type": "execute_result",
     "data": {
      "text/plain": "   qid                 query_text sub_len_label     sub_readability\n0    2   Androgen receptor define          long       very diffcult\n1    2   Androgen receptor define          long            diffcult\n2    2   Androgen receptor define          long  extremely diffcult\n3    2   Androgen receptor define          long     fairly diffcult\n4    2   Androgen receptor define         short       very diffcult",
      "text/html": "<div>\n<style scoped>\n    .dataframe tbody tr th:only-of-type {\n        vertical-align: middle;\n    }\n\n    .dataframe tbody tr th {\n        vertical-align: top;\n    }\n\n    .dataframe thead th {\n        text-align: right;\n    }\n</style>\n<table border=\"1\" class=\"dataframe\">\n  <thead>\n    <tr style=\"text-align: right;\">\n      <th></th>\n      <th>qid</th>\n      <th>query_text</th>\n      <th>sub_len_label</th>\n      <th>sub_readability</th>\n    </tr>\n  </thead>\n  <tbody>\n    <tr>\n      <th>0</th>\n      <td>2</td>\n      <td>Androgen receptor define</td>\n      <td>long</td>\n      <td>very diffcult</td>\n    </tr>\n    <tr>\n      <th>1</th>\n      <td>2</td>\n      <td>Androgen receptor define</td>\n      <td>long</td>\n      <td>diffcult</td>\n    </tr>\n    <tr>\n      <th>2</th>\n      <td>2</td>\n      <td>Androgen receptor define</td>\n      <td>long</td>\n      <td>extremely diffcult</td>\n    </tr>\n    <tr>\n      <th>3</th>\n      <td>2</td>\n      <td>Androgen receptor define</td>\n      <td>long</td>\n      <td>fairly diffcult</td>\n    </tr>\n    <tr>\n      <th>4</th>\n      <td>2</td>\n      <td>Androgen receptor define</td>\n      <td>short</td>\n      <td>very diffcult</td>\n    </tr>\n  </tbody>\n</table>\n</div>"
     },
     "metadata": {},
     "execution_count": 3
    }
   ],
   "source": [
    "querys = pd.read_csv('data/query_dev_pairs.csv')\n",
    "sub_querys = querys.loc[:50, :]\n",
    "sub_querys.head()"
   ]
  },
  {
   "cell_type": "code",
   "execution_count": 4,
   "metadata": {
    "tags": []
   },
   "outputs": [
    {
     "output_type": "stream",
     "name": "stdout",
     "text": "search query 2\nfound 0 result(s)\n-------------------------------------------------\nsearch query 2\nfound 15 result(s)\n-------------------------------------------------\nsearch query 2\nfound 0 result(s)\n-------------------------------------------------\nsearch query 2\nfound 0 result(s)\n-------------------------------------------------\nsearch query 2\nfound 0 result(s)\n-------------------------------------------------\nsearch query 2\nfound 13 result(s)\n-------------------------------------------------\nsearch query 2\nfound 0 result(s)\n-------------------------------------------------\nsearch query 2\nfound 0 result(s)\n-------------------------------------------------\nsearch query 2\nfound 0 result(s)\n-------------------------------------------------\nsearch query 2\nfound 14 result(s)\n-------------------------------------------------\nsearch query 2\nfound 0 result(s)\n-------------------------------------------------\nsearch query 2\nfound 0 result(s)\n-------------------------------------------------\nsearch query 1048585\nfound 4987 result(s)\n-------------------------------------------------\nsearch query 1048585\nfound 4180 result(s)\n-------------------------------------------------\nsearch query 1048585\nfound 0 result(s)\n-------------------------------------------------\nsearch query 1048585\nfound 0 result(s)\n-------------------------------------------------\nsearch query 1048585\nfound 2988 result(s)\n-------------------------------------------------\nsearch query 1048585\nfound 3094 result(s)\n-------------------------------------------------\nsearch query 1048585\nfound 0 result(s)\n-------------------------------------------------\nsearch query 1048585\nfound 0 result(s)\n-------------------------------------------------\nsearch query 1048585\nfound 4019 result(s)\n-------------------------------------------------\nsearch query 1048585\nfound 3296 result(s)\n-------------------------------------------------\nsearch query 1048585\nfound 0 result(s)\n-------------------------------------------------\nsearch query 1048585\nfound 0 result(s)\n-------------------------------------------------\nsearch query 458771\nfound 6036 result(s)\n-------------------------------------------------\nsearch query 458771\nfound 6095 result(s)\n-------------------------------------------------\nsearch query 458771\nfound 0 result(s)\n-------------------------------------------------\nsearch query 458771\nfound 0 result(s)\n-------------------------------------------------\nsearch query 458771\nfound 3973 result(s)\n-------------------------------------------------\nsearch query 458771\nfound 4298 result(s)\n-------------------------------------------------\nsearch query 458771\nfound 0 result(s)\n-------------------------------------------------\nsearch query 458771\nfound 0 result(s)\n-------------------------------------------------\nsearch query 458771\nfound 7245 result(s)\n-------------------------------------------------\nsearch query 458771\nfound 8777 result(s)\n-------------------------------------------------\nsearch query 458771\nfound 0 result(s)\n-------------------------------------------------\nsearch query 458771\nfound 0 result(s)\n-------------------------------------------------\nsearch query 163860\nfound 0 result(s)\n-------------------------------------------------\nsearch query 163860\nfound 0 result(s)\n-------------------------------------------------\nsearch query 163860\nfound 1886 result(s)\n-------------------------------------------------\nsearch query 163860\nfound 1846 result(s)\n-------------------------------------------------\nsearch query 163860\nfound 0 result(s)\n-------------------------------------------------\nsearch query 163860\nfound 756 result(s)\n-------------------------------------------------\nsearch query 163860\nfound 0 result(s)\n-------------------------------------------------\nsearch query 163860\nfound 0 result(s)\n-------------------------------------------------\nsearch query 163860\nfound 1541 result(s)\n-------------------------------------------------\nsearch query 163860\nfound 1677 result(s)\n-------------------------------------------------\nsearch query 163860\nfound 0 result(s)\n-------------------------------------------------\nsearch query 163860\nfound 822 result(s)\n-------------------------------------------------\nsearch query 163860\nfound 0 result(s)\n-------------------------------------------------\nsearch query 163860\nfound 0 result(s)\n-------------------------------------------------\nsearch query 163860\nfound 2422 result(s)\n-------------------------------------------------\n"
    }
   ],
   "source": [
    "test_Client = solrClient()\n",
    "for i in range(sub_querys.shape[0]):\n",
    "    query = sub_querys.loc[i, :]\n",
    "    qid = query['qid']\n",
    "    query_fields = ['contents', 'len_label', 'readability']\n",
    "    query_values = [query['query_text'], query['sub_len_label'], query['sub_readability']] \n",
    "    q = Query('field_query', qid, query_fields, query_values)   \n",
    "    test_Client.get_results(q)"
   ]
  },
  {
   "cell_type": "code",
   "execution_count": 5,
   "metadata": {},
   "outputs": [
    {
     "output_type": "execute_result",
     "data": {
      "text/plain": "          qid     pid                                            passage  \\\n0           2  506748  Hi - Yes, Spironolactone is a safe and effecti...   \n1           2  682116  It is not uncommon in female greyhounds as a r...   \n2           2  513610  Clin Genet 2002: 61: 321â329. C Blackwell Mu...   \n3           2  381780  Aromatase inhibitors stop the production of es...   \n4           2  683793  Endocrine organs include, among others, the pa...   \n...       ...     ...                                                ...   \n18615  163860  135371  If your healthcare provider has prescribed dig...   \n18616  163860  158307  For the most part, leaving the parking brake o...   \n18617  163860  159684  Generally, if the fever does not cause discomf...   \n18618  163860  187481  The infant was delivered via C-section at the ...   \n18619  163860  212373  Each Dum Dums Pop has only 25 calories and no ...   \n\n      len_label readability  rank  \n0          long    diffcult     1  \n1          long    diffcult     2  \n2          long    diffcult     3  \n3          long    diffcult     4  \n4          long    diffcult     5  \n...         ...         ...   ...  \n18615      long       plain   996  \n18616      long       plain   997  \n18617      long       plain   998  \n18618      long       plain   999  \n18619      long       plain  1000  \n\n[18620 rows x 6 columns]",
      "text/html": "<div>\n<style scoped>\n    .dataframe tbody tr th:only-of-type {\n        vertical-align: middle;\n    }\n\n    .dataframe tbody tr th {\n        vertical-align: top;\n    }\n\n    .dataframe thead th {\n        text-align: right;\n    }\n</style>\n<table border=\"1\" class=\"dataframe\">\n  <thead>\n    <tr style=\"text-align: right;\">\n      <th></th>\n      <th>qid</th>\n      <th>pid</th>\n      <th>passage</th>\n      <th>len_label</th>\n      <th>readability</th>\n      <th>rank</th>\n    </tr>\n  </thead>\n  <tbody>\n    <tr>\n      <th>0</th>\n      <td>2</td>\n      <td>506748</td>\n      <td>Hi - Yes, Spironolactone is a safe and effecti...</td>\n      <td>long</td>\n      <td>diffcult</td>\n      <td>1</td>\n    </tr>\n    <tr>\n      <th>1</th>\n      <td>2</td>\n      <td>682116</td>\n      <td>It is not uncommon in female greyhounds as a r...</td>\n      <td>long</td>\n      <td>diffcult</td>\n      <td>2</td>\n    </tr>\n    <tr>\n      <th>2</th>\n      <td>2</td>\n      <td>513610</td>\n      <td>Clin Genet 2002: 61: 321â329. C Blackwell Mu...</td>\n      <td>long</td>\n      <td>diffcult</td>\n      <td>3</td>\n    </tr>\n    <tr>\n      <th>3</th>\n      <td>2</td>\n      <td>381780</td>\n      <td>Aromatase inhibitors stop the production of es...</td>\n      <td>long</td>\n      <td>diffcult</td>\n      <td>4</td>\n    </tr>\n    <tr>\n      <th>4</th>\n      <td>2</td>\n      <td>683793</td>\n      <td>Endocrine organs include, among others, the pa...</td>\n      <td>long</td>\n      <td>diffcult</td>\n      <td>5</td>\n    </tr>\n    <tr>\n      <th>...</th>\n      <td>...</td>\n      <td>...</td>\n      <td>...</td>\n      <td>...</td>\n      <td>...</td>\n      <td>...</td>\n    </tr>\n    <tr>\n      <th>18615</th>\n      <td>163860</td>\n      <td>135371</td>\n      <td>If your healthcare provider has prescribed dig...</td>\n      <td>long</td>\n      <td>plain</td>\n      <td>996</td>\n    </tr>\n    <tr>\n      <th>18616</th>\n      <td>163860</td>\n      <td>158307</td>\n      <td>For the most part, leaving the parking brake o...</td>\n      <td>long</td>\n      <td>plain</td>\n      <td>997</td>\n    </tr>\n    <tr>\n      <th>18617</th>\n      <td>163860</td>\n      <td>159684</td>\n      <td>Generally, if the fever does not cause discomf...</td>\n      <td>long</td>\n      <td>plain</td>\n      <td>998</td>\n    </tr>\n    <tr>\n      <th>18618</th>\n      <td>163860</td>\n      <td>187481</td>\n      <td>The infant was delivered via C-section at the ...</td>\n      <td>long</td>\n      <td>plain</td>\n      <td>999</td>\n    </tr>\n    <tr>\n      <th>18619</th>\n      <td>163860</td>\n      <td>212373</td>\n      <td>Each Dum Dums Pop has only 25 calories and no ...</td>\n      <td>long</td>\n      <td>plain</td>\n      <td>1000</td>\n    </tr>\n  </tbody>\n</table>\n<p>18620 rows × 6 columns</p>\n</div>"
     },
     "metadata": {},
     "execution_count": 5
    }
   ],
   "source": [
    "result = pd.DataFrame(test_Client.results)\n",
    "result"
   ]
  },
  {
   "cell_type": "code",
   "execution_count": 6,
   "metadata": {},
   "outputs": [
    {
     "output_type": "execute_result",
     "data": {
      "text/plain": "    qid     pid                                            passage len_label  \\\n0     2  506748  Hi - Yes, Spironolactone is a safe and effecti...      long   \n1     2  682116  It is not uncommon in female greyhounds as a r...      long   \n2     2  513610  Clin Genet 2002: 61: 321â329. C Blackwell Mu...      long   \n3     2  381780  Aromatase inhibitors stop the production of es...      long   \n4     2  683793  Endocrine organs include, among others, the pa...      long   \n5     2  413894  This includes the activity of the accessory ma...      long   \n6     2  427096  Topic Overview. Bioidentical hormones are made...      long   \n7     2  343708  For the inactive 5Î²-reduced metabolite of tes...      long   \n8     2  413893  Androgenic: Pertaining to the development of m...      long   \n9     2  463285  Smaller amounts are produced in the adrenal gl...      long   \n10    2  283842  Gonads. Gonads are the male and female primary...      long   \n11    2  584924  Legal uses. Anabolic steroids, or anabolic-and...      long   \n12    2  850677  Acne, medically known as Acne Vulgaris, is a s...      long   \n13    2  125206  Prohormones in the broadest sense is anything ...      long   \n14    2  718826  Testosterone (androgen) is a hormone. Hormones...      long   \n15    2  413899  Androgen: A male sex hormone that promotes the...     short   \n16    2  873758  The most useful measurement of adrenal androge...     short   \n17    2  413902  1 Dihydrotestosterone (DHT) is a metabolite of...     short   \n18    2  164365  Fig 5. Effect of nightly oral dose of 50 mg DH...     short   \n19    2  413900  Androgen. A natural or artificial steroid that...     short   \n20    2   98592  Androgen Deficiency in Women with Hypopituitar...     short   \n21    2  510737  SHBG increases with age. in men and decreases ...     short   \n22    2  747664  Almonds. If your skin is going nuts, turn to a...     short   \n23    2  113618  Quick Answer. The adrenal glands are responsib...     short   \n24    2  364139  In general, androgens promote protein synthesi...     short   \n25    2  876907  Adrenal insufficiency is treated with hormones...     short   \n26    2  378379  Androgens are also the original anabolic stero...     short   \n27    2  547219  Now Iâve always known that acne has a lot to...     short   \n28    2  513654  Hi - Yes, Spironolactone is a safe and effecti...     equal   \n29    2  343712  The main androgen secreted by the testes is of...     equal   \n30    2  681932  Hypertrichosis. Excessive hair growth at inapp...     equal   \n31    2  535004  Dehydroepiandrosterone (DHEA) is an androgen t...     equal   \n32    2  873754  Resources for Healthcare Professionals. PCOS i...     equal   \n33    2  873756  Resources for Patients. PCOS is the most commo...     equal   \n34    2  506744  Spironolactone is another possible prescriptio...     equal   \n35    2  552242  Some physicians have considered the use of and...     equal   \n36    2  711096  Anti-androgen drugs are often prescribed in ad...     equal   \n37    2  385340  With that being said, there are many commonly ...     equal   \n38    2  760967  PCOS is due to a combination of genetic and en...     equal   \n39    2  564688  Andractim DHT is a non-aromatizing androgen, w...     equal   \n40    2  760953  The hormone that initiates the development of ...     equal   \n41    2  112131  Selective androgen receptor modulators (SARMs)...     equal   \n\n   readability  rank  \n0     diffcult     1  \n1     diffcult     2  \n2     diffcult     3  \n3     diffcult     4  \n4     diffcult     5  \n5     diffcult     6  \n6     diffcult     7  \n7     diffcult     8  \n8     diffcult     9  \n9     diffcult    10  \n10    diffcult    11  \n11    diffcult    12  \n12    diffcult    13  \n13    diffcult    14  \n14    diffcult    15  \n15    diffcult     1  \n16    diffcult     2  \n17    diffcult     3  \n18    diffcult     4  \n19    diffcult     5  \n20    diffcult     6  \n21    diffcult     7  \n22    diffcult     8  \n23    diffcult     9  \n24    diffcult    10  \n25    diffcult    11  \n26    diffcult    12  \n27    diffcult    13  \n28    diffcult     1  \n29    diffcult     2  \n30    diffcult     3  \n31    diffcult     4  \n32    diffcult     5  \n33    diffcult     6  \n34    diffcult     7  \n35    diffcult     8  \n36    diffcult     9  \n37    diffcult    10  \n38    diffcult    11  \n39    diffcult    12  \n40    diffcult    13  \n41    diffcult    14  ",
      "text/html": "<div>\n<style scoped>\n    .dataframe tbody tr th:only-of-type {\n        vertical-align: middle;\n    }\n\n    .dataframe tbody tr th {\n        vertical-align: top;\n    }\n\n    .dataframe thead th {\n        text-align: right;\n    }\n</style>\n<table border=\"1\" class=\"dataframe\">\n  <thead>\n    <tr style=\"text-align: right;\">\n      <th></th>\n      <th>qid</th>\n      <th>pid</th>\n      <th>passage</th>\n      <th>len_label</th>\n      <th>readability</th>\n      <th>rank</th>\n    </tr>\n  </thead>\n  <tbody>\n    <tr>\n      <th>0</th>\n      <td>2</td>\n      <td>506748</td>\n      <td>Hi - Yes, Spironolactone is a safe and effecti...</td>\n      <td>long</td>\n      <td>diffcult</td>\n      <td>1</td>\n    </tr>\n    <tr>\n      <th>1</th>\n      <td>2</td>\n      <td>682116</td>\n      <td>It is not uncommon in female greyhounds as a r...</td>\n      <td>long</td>\n      <td>diffcult</td>\n      <td>2</td>\n    </tr>\n    <tr>\n      <th>2</th>\n      <td>2</td>\n      <td>513610</td>\n      <td>Clin Genet 2002: 61: 321â329. C Blackwell Mu...</td>\n      <td>long</td>\n      <td>diffcult</td>\n      <td>3</td>\n    </tr>\n    <tr>\n      <th>3</th>\n      <td>2</td>\n      <td>381780</td>\n      <td>Aromatase inhibitors stop the production of es...</td>\n      <td>long</td>\n      <td>diffcult</td>\n      <td>4</td>\n    </tr>\n    <tr>\n      <th>4</th>\n      <td>2</td>\n      <td>683793</td>\n      <td>Endocrine organs include, among others, the pa...</td>\n      <td>long</td>\n      <td>diffcult</td>\n      <td>5</td>\n    </tr>\n    <tr>\n      <th>5</th>\n      <td>2</td>\n      <td>413894</td>\n      <td>This includes the activity of the accessory ma...</td>\n      <td>long</td>\n      <td>diffcult</td>\n      <td>6</td>\n    </tr>\n    <tr>\n      <th>6</th>\n      <td>2</td>\n      <td>427096</td>\n      <td>Topic Overview. Bioidentical hormones are made...</td>\n      <td>long</td>\n      <td>diffcult</td>\n      <td>7</td>\n    </tr>\n    <tr>\n      <th>7</th>\n      <td>2</td>\n      <td>343708</td>\n      <td>For the inactive 5Î²-reduced metabolite of tes...</td>\n      <td>long</td>\n      <td>diffcult</td>\n      <td>8</td>\n    </tr>\n    <tr>\n      <th>8</th>\n      <td>2</td>\n      <td>413893</td>\n      <td>Androgenic: Pertaining to the development of m...</td>\n      <td>long</td>\n      <td>diffcult</td>\n      <td>9</td>\n    </tr>\n    <tr>\n      <th>9</th>\n      <td>2</td>\n      <td>463285</td>\n      <td>Smaller amounts are produced in the adrenal gl...</td>\n      <td>long</td>\n      <td>diffcult</td>\n      <td>10</td>\n    </tr>\n    <tr>\n      <th>10</th>\n      <td>2</td>\n      <td>283842</td>\n      <td>Gonads. Gonads are the male and female primary...</td>\n      <td>long</td>\n      <td>diffcult</td>\n      <td>11</td>\n    </tr>\n    <tr>\n      <th>11</th>\n      <td>2</td>\n      <td>584924</td>\n      <td>Legal uses. Anabolic steroids, or anabolic-and...</td>\n      <td>long</td>\n      <td>diffcult</td>\n      <td>12</td>\n    </tr>\n    <tr>\n      <th>12</th>\n      <td>2</td>\n      <td>850677</td>\n      <td>Acne, medically known as Acne Vulgaris, is a s...</td>\n      <td>long</td>\n      <td>diffcult</td>\n      <td>13</td>\n    </tr>\n    <tr>\n      <th>13</th>\n      <td>2</td>\n      <td>125206</td>\n      <td>Prohormones in the broadest sense is anything ...</td>\n      <td>long</td>\n      <td>diffcult</td>\n      <td>14</td>\n    </tr>\n    <tr>\n      <th>14</th>\n      <td>2</td>\n      <td>718826</td>\n      <td>Testosterone (androgen) is a hormone. Hormones...</td>\n      <td>long</td>\n      <td>diffcult</td>\n      <td>15</td>\n    </tr>\n    <tr>\n      <th>15</th>\n      <td>2</td>\n      <td>413899</td>\n      <td>Androgen: A male sex hormone that promotes the...</td>\n      <td>short</td>\n      <td>diffcult</td>\n      <td>1</td>\n    </tr>\n    <tr>\n      <th>16</th>\n      <td>2</td>\n      <td>873758</td>\n      <td>The most useful measurement of adrenal androge...</td>\n      <td>short</td>\n      <td>diffcult</td>\n      <td>2</td>\n    </tr>\n    <tr>\n      <th>17</th>\n      <td>2</td>\n      <td>413902</td>\n      <td>1 Dihydrotestosterone (DHT) is a metabolite of...</td>\n      <td>short</td>\n      <td>diffcult</td>\n      <td>3</td>\n    </tr>\n    <tr>\n      <th>18</th>\n      <td>2</td>\n      <td>164365</td>\n      <td>Fig 5. Effect of nightly oral dose of 50 mg DH...</td>\n      <td>short</td>\n      <td>diffcult</td>\n      <td>4</td>\n    </tr>\n    <tr>\n      <th>19</th>\n      <td>2</td>\n      <td>413900</td>\n      <td>Androgen. A natural or artificial steroid that...</td>\n      <td>short</td>\n      <td>diffcult</td>\n      <td>5</td>\n    </tr>\n    <tr>\n      <th>20</th>\n      <td>2</td>\n      <td>98592</td>\n      <td>Androgen Deficiency in Women with Hypopituitar...</td>\n      <td>short</td>\n      <td>diffcult</td>\n      <td>6</td>\n    </tr>\n    <tr>\n      <th>21</th>\n      <td>2</td>\n      <td>510737</td>\n      <td>SHBG increases with age. in men and decreases ...</td>\n      <td>short</td>\n      <td>diffcult</td>\n      <td>7</td>\n    </tr>\n    <tr>\n      <th>22</th>\n      <td>2</td>\n      <td>747664</td>\n      <td>Almonds. If your skin is going nuts, turn to a...</td>\n      <td>short</td>\n      <td>diffcult</td>\n      <td>8</td>\n    </tr>\n    <tr>\n      <th>23</th>\n      <td>2</td>\n      <td>113618</td>\n      <td>Quick Answer. The adrenal glands are responsib...</td>\n      <td>short</td>\n      <td>diffcult</td>\n      <td>9</td>\n    </tr>\n    <tr>\n      <th>24</th>\n      <td>2</td>\n      <td>364139</td>\n      <td>In general, androgens promote protein synthesi...</td>\n      <td>short</td>\n      <td>diffcult</td>\n      <td>10</td>\n    </tr>\n    <tr>\n      <th>25</th>\n      <td>2</td>\n      <td>876907</td>\n      <td>Adrenal insufficiency is treated with hormones...</td>\n      <td>short</td>\n      <td>diffcult</td>\n      <td>11</td>\n    </tr>\n    <tr>\n      <th>26</th>\n      <td>2</td>\n      <td>378379</td>\n      <td>Androgens are also the original anabolic stero...</td>\n      <td>short</td>\n      <td>diffcult</td>\n      <td>12</td>\n    </tr>\n    <tr>\n      <th>27</th>\n      <td>2</td>\n      <td>547219</td>\n      <td>Now Iâve always known that acne has a lot to...</td>\n      <td>short</td>\n      <td>diffcult</td>\n      <td>13</td>\n    </tr>\n    <tr>\n      <th>28</th>\n      <td>2</td>\n      <td>513654</td>\n      <td>Hi - Yes, Spironolactone is a safe and effecti...</td>\n      <td>equal</td>\n      <td>diffcult</td>\n      <td>1</td>\n    </tr>\n    <tr>\n      <th>29</th>\n      <td>2</td>\n      <td>343712</td>\n      <td>The main androgen secreted by the testes is of...</td>\n      <td>equal</td>\n      <td>diffcult</td>\n      <td>2</td>\n    </tr>\n    <tr>\n      <th>30</th>\n      <td>2</td>\n      <td>681932</td>\n      <td>Hypertrichosis. Excessive hair growth at inapp...</td>\n      <td>equal</td>\n      <td>diffcult</td>\n      <td>3</td>\n    </tr>\n    <tr>\n      <th>31</th>\n      <td>2</td>\n      <td>535004</td>\n      <td>Dehydroepiandrosterone (DHEA) is an androgen t...</td>\n      <td>equal</td>\n      <td>diffcult</td>\n      <td>4</td>\n    </tr>\n    <tr>\n      <th>32</th>\n      <td>2</td>\n      <td>873754</td>\n      <td>Resources for Healthcare Professionals. PCOS i...</td>\n      <td>equal</td>\n      <td>diffcult</td>\n      <td>5</td>\n    </tr>\n    <tr>\n      <th>33</th>\n      <td>2</td>\n      <td>873756</td>\n      <td>Resources for Patients. PCOS is the most commo...</td>\n      <td>equal</td>\n      <td>diffcult</td>\n      <td>6</td>\n    </tr>\n    <tr>\n      <th>34</th>\n      <td>2</td>\n      <td>506744</td>\n      <td>Spironolactone is another possible prescriptio...</td>\n      <td>equal</td>\n      <td>diffcult</td>\n      <td>7</td>\n    </tr>\n    <tr>\n      <th>35</th>\n      <td>2</td>\n      <td>552242</td>\n      <td>Some physicians have considered the use of and...</td>\n      <td>equal</td>\n      <td>diffcult</td>\n      <td>8</td>\n    </tr>\n    <tr>\n      <th>36</th>\n      <td>2</td>\n      <td>711096</td>\n      <td>Anti-androgen drugs are often prescribed in ad...</td>\n      <td>equal</td>\n      <td>diffcult</td>\n      <td>9</td>\n    </tr>\n    <tr>\n      <th>37</th>\n      <td>2</td>\n      <td>385340</td>\n      <td>With that being said, there are many commonly ...</td>\n      <td>equal</td>\n      <td>diffcult</td>\n      <td>10</td>\n    </tr>\n    <tr>\n      <th>38</th>\n      <td>2</td>\n      <td>760967</td>\n      <td>PCOS is due to a combination of genetic and en...</td>\n      <td>equal</td>\n      <td>diffcult</td>\n      <td>11</td>\n    </tr>\n    <tr>\n      <th>39</th>\n      <td>2</td>\n      <td>564688</td>\n      <td>Andractim DHT is a non-aromatizing androgen, w...</td>\n      <td>equal</td>\n      <td>diffcult</td>\n      <td>12</td>\n    </tr>\n    <tr>\n      <th>40</th>\n      <td>2</td>\n      <td>760953</td>\n      <td>The hormone that initiates the development of ...</td>\n      <td>equal</td>\n      <td>diffcult</td>\n      <td>13</td>\n    </tr>\n    <tr>\n      <th>41</th>\n      <td>2</td>\n      <td>112131</td>\n      <td>Selective androgen receptor modulators (SARMs)...</td>\n      <td>equal</td>\n      <td>diffcult</td>\n      <td>14</td>\n    </tr>\n  </tbody>\n</table>\n</div>"
     },
     "metadata": {},
     "execution_count": 6
    }
   ],
   "source": [
    "result[result.qid==2]"
   ]
  },
  {
   "cell_type": "code",
   "execution_count": 7,
   "metadata": {},
   "outputs": [],
   "source": [
    "test_Client.export_results()"
   ]
  },
  {
   "cell_type": "code",
   "execution_count": null,
   "metadata": {},
   "outputs": [],
   "source": []
  }
 ]
}